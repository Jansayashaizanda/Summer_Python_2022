{
 "cells": [
  {
   "cell_type": "code",
   "execution_count": null,
   "id": "0ccab3fb",
   "metadata": {},
   "outputs": [],
   "source": [
    "alphabet =  'ABCDEFGHIJKLMNOPQRSTUVWXYZABCDEFGHIJKLMNOPQRSTUVWXYZ'\n",
    "text = input(\"Сообщение:\" ).upper()\n",
    "result = ''\n",
    "for i in text:\n",
    "    v = alphabet.find(i)\n",
    "    newv = v + int(3)\n",
    "    if i in alphabet:\n",
    "        result += alphabet[newv]\n",
    "    else:\n",
    "        result += i\n",
    "print (result)"
   ]
  },
  {
   "cell_type": "code",
   "execution_count": null,
   "id": "0571ca59",
   "metadata": {},
   "outputs": [],
   "source": []
  }
 ],
 "metadata": {
  "kernelspec": {
   "display_name": "Python 3",
   "language": "python",
   "name": "python3"
  },
  "language_info": {
   "codemirror_mode": {
    "name": "ipython",
    "version": 3
   },
   "file_extension": ".py",
   "mimetype": "text/x-python",
   "name": "python",
   "nbconvert_exporter": "python",
   "pygments_lexer": "ipython3",
   "version": "3.8.8"
  }
 },
 "nbformat": 4,
 "nbformat_minor": 5
}
